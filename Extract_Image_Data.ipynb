{
  "nbformat": 4,
  "nbformat_minor": 0,
  "metadata": {
    "colab": {
      "provenance": []
    },
    "kernelspec": {
      "name": "python3",
      "display_name": "Python 3"
    },
    "language_info": {
      "name": "python"
    }
  },
  "cells": [
    {
      "cell_type": "markdown",
      "source": [
        "# PDF Survey Digitizer (Google Sheets Integration)"
      ],
      "metadata": {
        "id": "VuUNBb06FOtr"
      }
    },
    {
      "cell_type": "markdown",
      "source": [
        "## First make sure the requests and google sheets libraries are installed"
      ],
      "metadata": {
        "id": "IptgYkl19OnR"
      }
    },
    {
      "cell_type": "code",
      "source": [
        "!pip install requests\n",
        "!pip install --upgrade gspread"
      ],
      "metadata": {
        "id": "E_T5H0Xo9IaJ"
      },
      "execution_count": null,
      "outputs": []
    },
    {
      "cell_type": "markdown",
      "source": [
        "## Questions for the LLM to extract from the image"
      ],
      "metadata": {
        "id": "FjSOMmtl9Yc-"
      }
    },
    {
      "cell_type": "code",
      "execution_count": 43,
      "metadata": {
        "id": "GSZ_ecei66Pn"
      },
      "outputs": [],
      "source": [
        "questions = [\n",
        "    \"Date:\",\n",
        "    \"Homeowner's Name:\",\n",
        "    \"Please share an example of how these repairs have made an impact on your day-to-day life:\",\n",
        "    \"Please explain why you rated the previous question this way:\",\n",
        "    \"For previous question please explain why or why not? \"\n",
        "]\n"
      ]
    },
    {
      "cell_type": "markdown",
      "source": [
        "## This code uploads the pdf to the Azure Document AI and recieves the content of the pdf in json"
      ],
      "metadata": {
        "id": "axW-HYOr9tfW"
      }
    },
    {
      "cell_type": "code",
      "source": [
        "import time\n",
        "import json\n",
        "import requests\n",
        "\n",
        "\n",
        "filename = \"HomePreservationProgram.pdf\"\n",
        "\n",
        "with open(\"credentials.json\") as f:\n",
        "    config = json.load(f)\n",
        "\n",
        "# Define your endpoint and API key\n",
        "endpoint = config[\"document-ai\"][\"endpoint\"]\n",
        "api_key = config[\"document-ai\"][\"api-key\"]\n",
        "\n",
        "# Define the URL for document analysis\n",
        "url = f\"{endpoint}/formrecognizer/v2.1/layout/analyze\"\n",
        "\n",
        "# Set the headers\n",
        "headers = {\n",
        "    \"Ocp-Apim-Subscription-Key\": api_key,\n",
        "    \"Content-Type\": \"application/pdf\",  # Or \"application/json\" if using JSON\n",
        "}\n",
        "\n",
        "# Open and send the document (PDF or image)\n",
        "with open(filename, \"rb\") as f:\n",
        "    data = f.read()\n",
        "\n",
        "# Make the request\n",
        "response = requests.post(url, headers=headers, data=data)\n",
        "\n",
        "# Check if the request was accepted\n",
        "if response.status_code == 202:\n",
        "    print(\"Request accepted, processing...\")\n",
        "    # Get the operation URL from the response headers or JSON response\n",
        "    operation_url = response.headers[\"Operation-Location\"]  # Example of how it's returned\n",
        "\n",
        "    # Poll the operation URL to check the status\n",
        "    status = \"\"\n",
        "    while status != \"succeeded\":\n",
        "        response = requests.get(operation_url, headers={\"Ocp-Apim-Subscription-Key\": api_key})\n",
        "        result = response.json()\n",
        "        status = result[\"status\"]\n",
        "\n",
        "        # Wait for a few seconds before polling again\n",
        "        time.sleep(5)\n",
        "        print(f\"Current status: {status}\")\n",
        "\n",
        "    # Once the status is \"succeeded\", you can get the results\n",
        "    print(\"Processing complete!\")\n",
        "    with open(\"output.json\", \"w\") as f:\n",
        "        json.dump(result, f, indent=2)\n",
        "\n",
        "else:\n",
        "    print(f\"Error: {response.status_code}, {response.text}\")\n"
      ],
      "metadata": {
        "colab": {
          "base_uri": "https://localhost:8080/"
        },
        "id": "UT_SBRNK9Bni",
        "outputId": "2c6efb3c-c16f-4c8a-c840-0dfea9668668"
      },
      "execution_count": null,
      "outputs": [
        {
          "output_type": "stream",
          "name": "stdout",
          "text": [
            "Request accepted, processing...\n",
            "Current status: running\n",
            "Current status: succeeded\n",
            "Processing complete!\n"
          ]
        }
      ]
    },
    {
      "cell_type": "markdown",
      "source": [
        "## Collects the lines from the json into paragraph form fo the LLM doesn't need as many tokens"
      ],
      "metadata": {
        "id": "cZrVkvwQL1Tg"
      }
    },
    {
      "cell_type": "code",
      "source": [
        "import json\n",
        "\n",
        "# Load the JSON data from the Azure response\n",
        "with open(\"output.json\", \"r\") as f:\n",
        "    data = json.load(f)\n",
        "\n",
        "# Initialize a list to hold lines\n",
        "lines = []\n",
        "\n",
        "# Assuming the structure has a 'analyzeResult' key with 'readResults'\n",
        "for page in data.get(\"analyzeResult\", {}).get(\"readResults\", []):\n",
        "    for line in page.get(\"lines\", []):\n",
        "        # Extract the text and add it to the list\n",
        "        lines.append(line[\"text\"])\n",
        "\n",
        "# Combine the words into a single string\n",
        "combined_text = \" \".join(lines)\n",
        "\n",
        "# Print the combined text (for debugging)\n",
        "print(combined_text)\n",
        "\n",
        "with open(\"output.txt\", \"w\") as f:\n",
        "    f.write(combined_text)"
      ],
      "metadata": {
        "colab": {
          "base_uri": "https://localhost:8080/"
        },
        "id": "8Slpax1WLtwN",
        "outputId": "198a5fc4-518f-4426-ef35-3bb3f7277e44"
      },
      "execution_count": 44,
      "outputs": [
        {
          "output_type": "stream",
          "name": "stdout",
          "text": [
            "San Gabriel Valley Habitat for Humanity' Home Preservation Program Exit Survey This survey helps ensure we are on track with our goals and allows us to make improvements to the program for future applicants. Thank you for taking the time to fill this out and feel free to get in touch if you have questions or more to say. Oct 12th 2024 John Pork Today's Date Homeowner's Name 1. Over the past twelve (12) months, how often did you feel stressed and/or nervous about home repairs/maintenance? Always Often Sometimes Rarely Never 2. What has prevented you and your household from making the repairs previously? (Select all that apply) Health-related issues Lack of expertise/access to expertise Lack of funds Other: 3. Did the completed repairs help in any of the following ways? (If yes, circle all that apply) Improved mobility Increased accessibility Increased safety Other: Please share an example of how these repairs have made an impact on your day-to-day life: The repairs fixed my driveway, now ! don't trip with my groceries . 4. Do you anticipate these repairs will benefit you and your family over the long-term in any of these ways? (If yes, circle all that apply) Ability to pass home onto family members in the future Ability to age-in-place (and stay) in current home Ability to spend money on things other than critical repairs Other: Building 724 E. Huntington Dr ., Monrovia, CA 91016 · (626) 387-6899 · sgvhabitat.org strength, stability, and self-reliance through in. Revised 2021 Tax ID # 95-4244947 2 5. How have the completed repairs affected the stress and/or mental health of you and your family? Greatly Worsened Slightly Worsened Slightly Improved Greatly Improved 6. How important is it for you to continue to live in this home? Very Unimportant Slightly Unimportant Slightly Important Very Important Please explain why you rated this way: I would not be happy if I didn't have a house. 7. Would you have been able to do these repairs without Habitat's help? Yes or No Please explain why or why not: don't have money. 8. What outstanding repair needs do you have that we were unable to address at this time? (Please circle all that apply) Fencing Roofing Doors Gutters Electrical Deck / Porch Siding Windows Plumbing Flooring Stairs Exterior painting Landscaping Grab bars, Handrails, Ramps Other: Building 724 E. Huntington Dr ., Monrovia, CA 91016 - (626) 387-6899 · sgvhabitat.org strength, stability, and self-reliance through TH Tax ID # 95-4244947\n"
          ]
        }
      ]
    },
    {
      "cell_type": "markdown",
      "source": [
        "## This code sends the pdf file data and the survey questions to chatGPT"
      ],
      "metadata": {
        "id": "CAF8Izd_9jyS"
      }
    },
    {
      "cell_type": "code",
      "source": [
        "import requests\n",
        "import json\n",
        "import time\n",
        "from requests.exceptions import RequestException\n",
        "\n",
        "# Load credentials\n",
        "with open(\"credentials.json\") as f:\n",
        "    config = json.load(f)\n",
        "\n",
        "# Define your endpoint and API key\n",
        "endpoint = config[\"open-ai-llm\"][\"endpoint\"]\n",
        "api_key = config[\"open-ai-llm\"][\"api-key\"]\n",
        "\n",
        "# Define the headers, including the API key for authentication\n",
        "headers = {\n",
        "    \"Content-Type\": \"application/json\",\n",
        "    \"api-key\": api_key\n",
        "}\n",
        "\n",
        "with open('output.txt', 'r') as file:\n",
        "    pdf_data = file.read()\n",
        "    print(\"PDF data:\" + str(pdf_data))\n",
        "\n",
        "# Define the payload (prompt, model, etc.)\n",
        "\n",
        "# Function to send the request and check for the response in a loop\n",
        "def prompt_GPT(prompt):\n",
        "    data = {\n",
        "        \"model\": \"gpt-3.5-turbo\",\n",
        "        \"messages\": [\n",
        "            {\n",
        "                \"role\": \"system\", \"content\": \"You are a data extractor.\"\n",
        "            },\n",
        "            {\n",
        "                \"role\": \"user\", \"content\": \"This is the scanned data from a pdf survey: \" + str(pdf_data) + \"What did the user enter for this question: \" + str(prompt) + \"\\nPlease reformat dates to mm/dd/yyyy format. Otherwise please respond with and only with the user's response, dont explain anything, don't add punctuation.\"\n",
        "            }\n",
        "        ],\n",
        "        \"temperature\": 0.9,  # Control randomness: 0 = deterministic, 1 = more creative\n",
        "        \"max_tokens\": 100    # Limit the response length\n",
        "      }\n",
        "\n",
        "    response_received = False\n",
        "    attempt_count = 0\n",
        "\n",
        "    while not response_received:\n",
        "        try:\n",
        "            print(f\"Attempt {attempt_count + 1}: Sending request...\")\n",
        "            response = requests.post(\n",
        "                f\"{endpoint}\",\n",
        "                headers=headers, json=data\n",
        "            )\n",
        "\n",
        "            if response.status_code == 200:\n",
        "                response_data = response.json()[\"choices\"][0][\"message\"][\"content\"]\n",
        "                print(f\"Response: {response_data}\")\n",
        "                return response_data\n",
        "                response_received = True  # Break the loop when response is successfully received\n",
        "            else:\n",
        "                print(f\"Error: {response.status_code}\")\n",
        "                print(f\"Message: {response.text}\")\n",
        "\n",
        "            # Increment attempt counter\n",
        "            attempt_count += 1\n",
        "            # Wait before trying again (to avoid overwhelming the server)\n",
        "            time.sleep(2)\n",
        "\n",
        "        except RequestException as e:\n",
        "            print(f\"An error occurred: {e}\")\n",
        "            time.sleep(2)  # Wait before retrying\n",
        "\n",
        "\n",
        "response = {}\n",
        "\n",
        "# Ensure questions is defined from an earlier code block\n",
        "for question in questions:\n",
        "    response[question] = prompt_GPT(question)\n",
        "\n",
        "# Save the response to a JSON file\n",
        "with open(\"response.json\", \"w\") as f:\n",
        "    json.dump(response, f, indent=2)\n",
        "\n",
        "print(\"Complete.\")\n"
      ],
      "metadata": {
        "id": "5TuPfnSH8bQT",
        "colab": {
          "base_uri": "https://localhost:8080/"
        },
        "outputId": "ca89918b-3358-45cb-db31-062a37cfa3cd"
      },
      "execution_count": 62,
      "outputs": [
        {
          "output_type": "stream",
          "name": "stdout",
          "text": [
            "PDF data:San Gabriel Valley Habitat for Humanity' Home Preservation Program Exit Survey This survey helps ensure we are on track with our goals and allows us to make improvements to the program for future applicants. Thank you for taking the time to fill this out and feel free to get in touch if you have questions or more to say. Oct 12th 2024 John Pork Today's Date Homeowner's Name 1. Over the past twelve (12) months, how often did you feel stressed and/or nervous about home repairs/maintenance? Always Often Sometimes Rarely Never 2. What has prevented you and your household from making the repairs previously? (Select all that apply) Health-related issues Lack of expertise/access to expertise Lack of funds Other: 3. Did the completed repairs help in any of the following ways? (If yes, circle all that apply) Improved mobility Increased accessibility Increased safety Other: Please share an example of how these repairs have made an impact on your day-to-day life: The repairs fixed my driveway, now ! don't trip with my groceries . 4. Do you anticipate these repairs will benefit you and your family over the long-term in any of these ways? (If yes, circle all that apply) Ability to pass home onto family members in the future Ability to age-in-place (and stay) in current home Ability to spend money on things other than critical repairs Other: Building 724 E. Huntington Dr ., Monrovia, CA 91016 · (626) 387-6899 · sgvhabitat.org strength, stability, and self-reliance through in. Revised 2021 Tax ID # 95-4244947 2 5. How have the completed repairs affected the stress and/or mental health of you and your family? Greatly Worsened Slightly Worsened Slightly Improved Greatly Improved 6. How important is it for you to continue to live in this home? Very Unimportant Slightly Unimportant Slightly Important Very Important Please explain why you rated this way: I would not be happy if I didn't have a house. 7. Would you have been able to do these repairs without Habitat's help? Yes or No Please explain why or why not: don't have money. 8. What outstanding repair needs do you have that we were unable to address at this time? (Please circle all that apply) Fencing Roofing Doors Gutters Electrical Deck / Porch Siding Windows Plumbing Flooring Stairs Exterior painting Landscaping Grab bars, Handrails, Ramps Other: Building 724 E. Huntington Dr ., Monrovia, CA 91016 - (626) 387-6899 · sgvhabitat.org strength, stability, and self-reliance through TH Tax ID # 95-4244947\n",
            "Attempt 1: Sending request...\n",
            "Response: Oct 12th 2024\n",
            "Attempt 1: Sending request...\n",
            "Response: The user entered \"John Pork\" as the Homeowner's Name. The date is already in mm/dd/yyyy format.\n",
            "Attempt 1: Sending request...\n",
            "Response: The user entered: \"The repairs fixed my driveway, now I don't trip with my groceries\" on an unspecified date.\n",
            "Attempt 1: Sending request...\n",
            "Response: I would not be happy if I didn't have a house.\n",
            "Attempt 1: Sending request...\n",
            "Response: User response: don't have money.\n",
            "Complete.\n"
          ]
        }
      ]
    },
    {
      "cell_type": "markdown",
      "source": [
        "## Next we populate the row in the Google sheet with the survey data"
      ],
      "metadata": {
        "id": "W6NFSRNPPRYp"
      }
    },
    {
      "cell_type": "code",
      "source": [
        "# prompt: can you use the data in responses.json to populate a google sheet. the keys should be the names of the name of the column and append a row to inpiut this data\n",
        "\n",
        "from google.colab import auth\n",
        "auth.authenticate_user()\n",
        "\n",
        "import gspread\n",
        "from google.auth import default\n",
        "creds, _ = default()\n",
        "\n",
        "import time\n",
        "\n",
        "gc = gspread.authorize(creds)\n",
        "\n",
        "# Open the spreadsheet by name or URL\n",
        "sh = gc.open('Responses')\n",
        "\n",
        "# Select the worksheet\n",
        "worksheet = sh.get_worksheet(2) # Exit Survey\n",
        "header_row = worksheet.row_values(1)\n",
        "last_row = len(worksheet.get_all_values()) + 1\n",
        "\n",
        "\n",
        "# Load the responses from the JSON file\n",
        "with open(\"response.json\", \"r\") as f:\n",
        "    response_data = json.load(f)\n",
        "\n",
        "response_data[\"Timestamp\"] = time.strftime(\"%Y-%m-%d %H:%M:%S\")\n",
        "\n",
        "for question, answer in response_data.items():\n",
        "    try:\n",
        "      column_index = header_row.index(question) + 1\n",
        "      worksheet.update_cell(last_row, column_index, answer)\n",
        "    except ValueError:\n",
        "      print(f\"Column '{question}' not found in the header row.\")\n",
        "\n",
        "print(\"Finished adding survey to the google sheet\")"
      ],
      "metadata": {
        "colab": {
          "base_uri": "https://localhost:8080/"
        },
        "id": "kgLSj7l-creS",
        "outputId": "16ce87b3-a8cc-4740-b9eb-07f9f007daa7"
      },
      "execution_count": 57,
      "outputs": [
        {
          "output_type": "stream",
          "name": "stdout",
          "text": [
            "Finished adding survey to the google sheet\n"
          ]
        }
      ]
    }
  ]
}